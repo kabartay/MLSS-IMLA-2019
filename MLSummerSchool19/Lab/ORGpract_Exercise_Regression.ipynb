{
 "cells": [
  {
   "cell_type": "markdown",
   "metadata": {},
   "source": [
    "# Exercise: Regression"
   ]
  },
  {
   "cell_type": "markdown",
   "metadata": {},
   "source": [
    "## Generate Data"
   ]
  },
  {
   "cell_type": "code",
   "execution_count": 1,
   "metadata": {
    "collapsed": true
   },
   "outputs": [],
   "source": [
    "#dummy regression data\n",
    "import numpy as np\n",
    "from sklearn.datasets import make_regression\n",
    "X, y = make_regression(n_features=128, n_informative=53,random_state=0, shuffle=False, n_samples=1000)"
   ]
  },
  {
   "cell_type": "code",
   "execution_count": 3,
   "metadata": {},
   "outputs": [
    {
     "data": {
      "text/plain": [
       "(1000, 128)"
      ]
     },
     "execution_count": 3,
     "metadata": {},
     "output_type": "execute_result"
    }
   ],
   "source": [
    "np.shape(X)"
   ]
  },
  {
   "cell_type": "markdown",
   "metadata": {},
   "source": [
    "### E2.1: split data init train and test sets "
   ]
  },
  {
   "cell_type": "code",
   "execution_count": 4,
   "metadata": {
    "collapsed": true
   },
   "outputs": [],
   "source": [
    "from sklearn.model_selection import train_test_split\n",
    "X_train, X_test, y_train, y_test = train_test_split(X, y, test_size=0.33, random_state=42)"
   ]
  },
  {
   "cell_type": "code",
   "execution_count": 5,
   "metadata": {},
   "outputs": [
    {
     "data": {
      "text/plain": [
       "array([[-1.47840008, -0.28221545,  1.21484475, ...,  0.23983068,\n",
       "        -0.98271133,  1.28465967],\n",
       "       [ 0.24983834, -0.7552278 , -0.28205816, ..., -0.78462731,\n",
       "         0.79359658, -0.7879238 ],\n",
       "       [ 0.72341824, -1.09480285, -0.29014924, ..., -0.72965419,\n",
       "         0.45685934, -1.46884044],\n",
       "       ...,\n",
       "       [-0.79299287, -0.01882958,  1.76200825, ..., -0.52086743,\n",
       "         0.93432848, -1.15044616],\n",
       "       [ 0.74982838,  1.69363725,  0.54879216, ..., -1.46539675,\n",
       "         0.39755909,  0.96939133],\n",
       "       [ 1.0624066 ,  0.96995243, -1.54289319, ..., -1.27888939,\n",
       "        -0.21961862,  0.20625645]])"
      ]
     },
     "execution_count": 5,
     "metadata": {},
     "output_type": "execute_result"
    }
   ],
   "source": [
    "X_train"
   ]
  },
  {
   "cell_type": "code",
   "execution_count": 8,
   "metadata": {},
   "outputs": [
    {
     "data": {
      "text/plain": [
       "array([ 1.82886596e+02, -8.85752075e+02, -3.02174189e+02, -2.86272958e+02,\n",
       "        5.61095476e+02,  5.56558505e+02, -1.86743785e+02, -3.29450348e+02,\n",
       "       -1.28763121e+02, -1.35768528e+02, -2.74354563e+02, -1.28418509e+02,\n",
       "       -2.95919282e+02,  5.12929197e+02,  8.25093310e+02, -2.54420590e+02,\n",
       "       -3.86069011e+02, -2.07680990e+02, -5.16136777e+02,  7.69181814e+02,\n",
       "        2.56057078e+02, -1.86436102e+02, -4.78223540e+02, -1.38323549e+02,\n",
       "       -5.29920025e+02, -2.46779454e+02, -5.03348535e+02, -4.76915190e+01,\n",
       "        1.43022393e+02,  2.35565745e+02, -5.00008855e+02, -4.64594029e+02,\n",
       "        5.34971332e+01,  5.59355921e+01,  1.91009472e+02,  1.70979521e+02,\n",
       "       -3.52913764e+02, -2.08473486e+02, -2.02569751e+01,  5.49218656e+02,\n",
       "       -4.56858832e+02,  4.19465931e+02,  7.32692682e+01,  6.26676512e+02,\n",
       "       -2.30897546e+02,  9.44235480e+01, -2.58008843e+02, -3.27758952e+02,\n",
       "       -2.31015408e+02, -5.97452415e+02, -3.21208380e+02, -2.03388318e+02,\n",
       "       -7.69414722e+02,  4.53423796e+02, -5.10547788e+02, -1.09862061e+02,\n",
       "       -9.41467542e+01,  3.94072459e+02, -1.38054196e+01,  4.73165716e+02,\n",
       "       -2.59763730e+02, -1.03216470e+02,  4.73204342e+02,  1.25208328e+02,\n",
       "        5.05499342e+02, -5.75669943e+02,  1.08808427e+02,  8.66770013e+01,\n",
       "        4.02215125e+02,  4.93872265e+01,  1.45749889e+02,  6.15442882e+02,\n",
       "       -3.42949138e+02, -3.91107744e+02,  7.11066638e+02, -2.81707433e+01,\n",
       "        6.14803533e+02,  4.96120340e+02,  2.64855132e+02,  7.25342416e+01,\n",
       "        4.88209350e+01, -2.34129411e+02, -1.86623551e+02,  7.67654841e+01,\n",
       "       -1.04167436e+02,  2.60678109e+02,  8.66825141e+02, -3.55425567e+02,\n",
       "       -7.56898431e+02, -7.82690370e+01, -9.80979941e+01,  2.65293356e+02,\n",
       "       -8.00228709e+02,  8.78950707e+02, -6.19272571e+02,  9.66184361e+01,\n",
       "        1.64479871e+02, -6.41339139e+02,  4.31111160e+02, -1.64647320e+02,\n",
       "       -3.96550809e+02,  1.75292983e+02,  6.11297838e+00, -2.87013183e+02,\n",
       "       -2.74167805e+02,  1.40576297e+02, -5.59379550e+00, -4.55244947e+02,\n",
       "        4.29101135e+01,  1.42335479e+02,  6.74915859e+02,  6.82247343e+02,\n",
       "        1.84000470e+02, -1.23089013e+01,  4.86530048e+02, -2.21667702e+02,\n",
       "       -5.78167738e+02,  2.20420408e+02, -1.69954854e+02, -2.29353125e+02,\n",
       "       -4.98020257e+01,  4.78139753e+01,  3.73994357e+02, -8.19410574e+01,\n",
       "       -5.33889352e+02,  8.66048443e+02,  2.43668699e+02, -2.17348204e+02,\n",
       "       -8.18491781e-01, -5.99473451e+02,  2.05552791e+02, -4.83639685e+02,\n",
       "       -1.07640939e+02,  7.36896498e+02, -1.56648068e+02, -2.82523987e+02,\n",
       "        1.61675465e+02, -3.28051913e+02,  7.50857811e+01, -1.43526435e+03,\n",
       "        8.68232604e+02, -8.21466397e+02,  1.59972374e+02, -1.87798044e+02,\n",
       "        7.19346974e+02,  8.03799557e+02, -2.20233153e+02, -5.80858112e+02,\n",
       "        1.04320255e+02,  2.61474569e+01,  7.13787382e+02,  1.51260872e+02,\n",
       "       -5.21056493e+01, -4.95206045e+02, -3.85911719e+02, -5.22596670e+01,\n",
       "        2.98910073e+02, -1.05182682e+02,  4.25010699e+02, -3.64143943e+01,\n",
       "        2.93560444e+02,  9.31003449e+02, -3.37523632e+02,  3.61037891e+01,\n",
       "       -5.94907272e+02,  1.67808615e+01, -4.55056041e+02, -7.12322943e+01,\n",
       "       -4.44901458e+02, -5.10575778e+02, -5.68617039e+02, -2.59779835e+02,\n",
       "       -4.23251504e+02, -8.07964703e+02,  3.65926651e+01,  2.52623313e+02,\n",
       "       -2.36380640e+02, -1.18587778e+02,  1.11087457e+03, -1.72593198e+02,\n",
       "       -3.31869890e+02, -9.40560109e+02,  6.63474612e+01,  2.44298732e+02,\n",
       "        1.66763165e+02,  2.72556852e+02,  1.24462866e+02, -6.82978512e+01,\n",
       "        1.21313852e+02, -6.57897128e+01,  3.14065587e+01, -2.26418011e+02,\n",
       "        3.84530032e+02,  4.48305152e+02, -2.93884935e+02,  4.52033211e+02,\n",
       "        4.86178489e+02,  4.93609498e+01, -3.68261041e+02,  5.88845136e+02,\n",
       "       -2.33938228e+02,  1.05189942e+02,  2.68688603e+02, -3.83300349e+01,\n",
       "       -3.08713216e+02, -1.40441441e+02,  4.32475687e+01, -1.15474542e+02,\n",
       "        8.29151797e+01,  3.17651742e+02,  2.25726787e+02,  1.67762838e+02,\n",
       "       -1.82249702e+02,  1.77568341e+02, -1.40011320e+02, -5.48670191e+00,\n",
       "       -6.76159884e+02,  1.66496802e+02,  2.02154483e+02,  6.22456963e+02,\n",
       "        4.96890822e+02,  3.77831139e+01,  7.09548380e+01,  1.43697794e+02,\n",
       "        3.70339075e+02,  1.72842492e+02,  1.19790060e+02, -3.81626569e+02,\n",
       "       -3.70642070e+02,  1.04699408e+01, -3.82633516e+01, -4.16183773e+01,\n",
       "       -3.98619670e+02,  2.96432013e+02,  1.58898805e+02, -3.24345556e+02,\n",
       "       -3.49234302e+02, -4.96352239e+02, -4.77290609e+02,  3.32995870e+02,\n",
       "        4.13648050e+02,  5.94621820e+02,  4.12776288e+02,  6.32140196e+02,\n",
       "        1.10753746e+02, -3.14142330e+02,  9.68029375e+01, -4.21904120e+02,\n",
       "       -1.61702879e+02,  3.46007787e+02,  9.82500044e+01, -7.56253049e+02,\n",
       "        1.62011292e+02, -8.54935045e+02, -5.21807669e+01,  7.01559987e+02,\n",
       "       -1.10008754e+02, -1.86026964e+02,  5.19515807e+02, -5.51138033e+02,\n",
       "        1.64766205e+02, -2.07426224e+00,  4.00334695e+02,  5.00147473e+01,\n",
       "       -9.57533313e+02,  4.72419346e+02,  1.81423709e+02, -2.58044694e+02,\n",
       "       -3.94525612e+02,  3.74997685e+02, -1.91029351e+02,  9.47766870e+02,\n",
       "       -3.75978044e+02,  6.40895773e+01,  3.99921419e+01,  5.20364393e+02,\n",
       "        9.40586426e+02, -4.24982720e+02, -4.63029194e+02, -4.85642944e+02,\n",
       "        3.39043010e+02, -3.89588771e+02, -1.51348385e+02, -5.68177051e+02,\n",
       "       -4.09099472e+02, -4.78017681e+02,  5.90426376e+02, -7.29530063e+02,\n",
       "       -2.85566138e+02,  8.42192805e+01, -1.80255837e+02, -4.00690627e+02,\n",
       "        5.21906708e+02,  2.03361519e+01,  1.33579353e+02, -6.73711768e+02,\n",
       "        1.40193421e+02,  5.49025462e+02,  2.00821437e+02,  4.60261685e+02,\n",
       "       -2.85078247e+02,  4.12451205e+02, -2.23804718e+02,  3.10776278e+02,\n",
       "        3.73947145e+02, -3.72852177e+02, -2.25524644e+02, -3.32109228e+02,\n",
       "       -1.75455917e+01, -1.10121846e+03, -5.15354531e+02, -9.81227406e+02,\n",
       "        1.99682885e+02,  1.56279790e+01, -2.97974686e+01, -2.26320469e+02,\n",
       "       -7.35074272e+02, -1.96827128e+02,  3.94902167e+01,  9.42674721e+01,\n",
       "        1.74568557e+02, -1.27818713e+02,  6.73674803e+02,  6.61627992e+02,\n",
       "        6.59380146e+02,  8.65350785e+02,  1.87537644e+02, -1.47535956e+02,\n",
       "       -2.01263224e+01,  3.46378796e+02,  5.04503510e+02, -1.81336920e+02,\n",
       "       -3.70356495e+02,  3.44177527e+02,  2.55454929e+02,  4.41052330e+02,\n",
       "        3.79127482e+02, -3.97443427e+02,  3.61630849e+02,  1.55645154e+02,\n",
       "        4.53458299e+01,  3.36361259e+02,  4.50777015e+01,  4.18016817e+02,\n",
       "       -2.92053212e+01,  2.01330170e+02, -2.17676901e+02,  1.25801849e+02,\n",
       "        4.05272129e+02,  5.45566183e+00, -1.74956913e+02, -3.83663673e+02,\n",
       "        1.56484924e+02,  6.42856538e+02,  8.20689082e+02,  1.61471359e+02,\n",
       "       -4.22877546e+02, -2.61287209e+02, -3.92973741e+02,  5.42219613e+02,\n",
       "       -2.47432842e+01, -8.16091353e+01,  2.28976207e+02,  5.88444445e+02,\n",
       "       -1.58367301e+02, -9.97556834e+01,  2.12821420e+02, -5.32674439e+02,\n",
       "        6.52953751e+01,  2.33963334e+02, -1.15555945e+03, -6.06915098e+02,\n",
       "        3.30021837e+02,  1.69305836e+02,  2.33981249e+02,  5.38843530e+01,\n",
       "        1.31242837e+02, -5.10715615e+02,  6.50484045e+02, -1.51866310e+01,\n",
       "        2.69264059e+02,  1.24071369e+02,  3.91096663e+02,  4.97797877e+02,\n",
       "        5.21826687e+02, -5.05156224e+02, -1.77264677e+02, -7.43832675e+01,\n",
       "       -3.49237055e+01, -2.82941086e+02, -8.26605690e+01, -1.41147258e+02,\n",
       "       -1.49256171e+02,  2.99311599e+02, -5.20919672e+02,  2.93256791e+02,\n",
       "       -1.21306813e+02,  2.30652180e+02,  1.49302122e+02, -1.21106775e+01,\n",
       "        4.63220305e+02, -4.78874439e+02,  7.80494087e+02,  2.54390119e+01,\n",
       "       -3.64693779e+02, -2.05385216e+02, -3.24535720e+01, -1.72971857e+01,\n",
       "       -2.22949248e+02,  3.40743715e+02,  1.97572432e+02, -5.46949614e+01,\n",
       "        6.82463773e+02,  1.29019651e+02,  1.15347566e+02, -8.90577556e+01,\n",
       "       -1.82929480e+02,  2.95851405e+02, -1.42940684e+02,  5.29639927e+02,\n",
       "        1.63857048e+02,  4.89722627e+02, -4.78609046e+02,  3.20171295e+02,\n",
       "       -5.80946673e+02,  1.70514639e+01, -4.75759612e+02, -3.06054227e+02,\n",
       "       -2.43054665e+02,  7.00597150e+02, -1.76865842e+02, -9.93370330e+02,\n",
       "       -5.91877127e+02, -2.07408406e+02, -2.99968633e+02,  3.38497967e+02,\n",
       "        1.15181353e+02, -3.57048181e+02, -8.95746384e+00, -1.32347685e+02,\n",
       "        5.91207383e+01,  9.92091903e+02,  4.69438854e+02, -5.79634383e+01,\n",
       "       -4.30405704e+02,  1.03273856e+02, -2.01913577e+02,  3.01373034e+02,\n",
       "       -6.07714161e+01, -3.09760070e+02, -5.97499635e+01,  1.83163057e+01,\n",
       "       -1.65973801e+02, -1.40524985e+02,  5.11720264e+02,  1.35880041e+02,\n",
       "       -6.45587541e+02,  7.74626163e+01,  2.47415806e+02,  1.34125258e+02,\n",
       "        2.79610313e+02,  1.03602573e+03, -2.33319933e+02,  2.31627073e+02,\n",
       "        2.70546523e+00, -1.59393343e+02, -8.21368943e+02, -3.45141131e+02,\n",
       "        4.52693957e+02, -2.14348436e+02, -4.29808681e+02,  5.71981652e+01,\n",
       "       -3.62735635e+02,  8.37936920e+01, -4.75149154e+02, -3.36836202e+02,\n",
       "        4.75948708e+01,  5.65990973e+02, -2.91236115e+02, -1.54818450e+02,\n",
       "        3.96413005e+02,  5.92741660e+02, -2.48055956e+02, -5.18055916e+01,\n",
       "       -1.13344650e+02, -2.13267442e+01, -1.33960921e+01, -6.40673689e+02,\n",
       "       -4.94181801e+02, -4.23752911e+02,  2.06598023e+02,  3.23808537e+02,\n",
       "       -6.13847950e+02, -1.39857025e+02, -9.58789018e+01, -2.27612675e+02,\n",
       "        8.07958973e+01, -9.37591542e+01,  4.86101270e+02, -1.70781434e+02,\n",
       "        3.06494743e+01,  7.88064486e+02,  7.93396807e+02,  2.15011671e+02,\n",
       "       -1.04375611e+03,  5.79544464e+02, -5.55389502e+01,  6.22569917e+02,\n",
       "        9.21098596e+02,  5.72385850e+01, -3.47144714e+02,  2.65264771e+02,\n",
       "        2.29237704e+02, -2.93671518e+02,  4.84967713e+02, -5.45558569e+02,\n",
       "        7.08260422e+02,  1.29019170e+02,  1.26875873e+02, -1.13541487e+02,\n",
       "        6.45651738e+01, -7.30872937e+02, -3.37392129e+02,  1.86022167e+02,\n",
       "       -4.75747409e+02,  6.07807529e+02, -5.72509676e+01, -3.99518504e+02,\n",
       "        5.95169389e+02, -1.58875751e+02, -2.26909895e+02, -8.38529779e+02,\n",
       "        1.09302393e+02, -3.58552276e+02, -1.74257958e+02,  1.65085540e+02,\n",
       "       -2.24298598e+02,  9.09021613e+01, -2.00474512e+02,  7.59340176e+01,\n",
       "        3.92404322e+02,  2.47401270e+02, -8.81669034e+02, -2.65735142e+02,\n",
       "       -3.98825728e+02,  1.64484345e+02,  2.89559646e+02,  1.90730331e+01,\n",
       "       -4.90444927e+02, -3.70949218e+01,  6.01574280e+01, -1.61445727e+02,\n",
       "        5.67872629e+02,  1.42605332e+02,  5.34335619e+02, -5.79271241e+02,\n",
       "       -9.56107012e+02, -2.11970896e+02, -5.70523074e+02, -5.59266663e+02,\n",
       "        4.91995353e+01, -9.61312618e+02, -8.24398231e+02,  6.97595178e+02,\n",
       "        3.38856481e+02, -1.64692555e+02, -2.92439998e+02,  5.58155499e+02,\n",
       "       -4.71915926e+02, -6.67222082e+01,  6.83405272e+02, -1.38902822e+02,\n",
       "       -1.51535977e+02, -8.92890327e+01,  5.19460017e+01,  6.96906819e+02,\n",
       "        1.54446422e+02,  1.02405803e+01,  1.00069408e+02,  4.67654298e+02,\n",
       "       -6.07664296e+02,  5.73973949e+02, -2.27585979e+02,  3.27043315e+01,\n",
       "        8.09326366e+02,  9.41449140e+01,  8.87919572e+01, -3.01869867e+02,\n",
       "       -4.60428396e+01, -5.09345123e+02,  1.41149750e+02,  1.69039194e+02,\n",
       "        6.24165404e+02,  1.63442133e+02,  1.06297839e+02,  1.11296024e+03,\n",
       "        1.41388456e+01,  6.27524134e+02,  4.26166704e+02, -6.20478626e+01,\n",
       "        6.09349971e+02,  9.06634396e+02,  2.78820338e+02,  1.80430565e+02,\n",
       "        5.08047938e+02, -1.06023681e+02,  3.62774504e+02, -8.22038599e+02,\n",
       "        2.73047675e+02, -5.98313579e+02,  3.00350259e+02,  2.18512225e+02,\n",
       "        2.39467980e+02, -2.14145611e+02,  1.00871107e+03,  3.10757984e+01,\n",
       "        7.20829216e+02,  1.60906415e+02,  2.49954234e+02, -5.05531028e+01,\n",
       "       -3.13361422e+02,  1.22789652e+01,  1.32196584e+02, -3.64482813e+02,\n",
       "       -5.93514433e+01, -1.60338076e+02,  2.50671969e+02,  2.49737281e+02,\n",
       "        7.64417650e+02, -2.17030588e+02,  2.25403925e+02,  2.18069472e+02,\n",
       "        1.59299429e+02,  5.53962550e+02, -2.34101918e+02,  1.75494295e+02,\n",
       "       -3.67149336e+02, -5.37300616e+02,  3.82207885e+02,  8.51032288e+00,\n",
       "        1.07937700e+01, -3.74144672e+02, -6.94829780e+02, -3.97062312e+02,\n",
       "       -9.35057607e+01,  5.74989437e+02,  9.64855024e+02, -6.45716744e+02,\n",
       "       -2.86193096e+02,  1.70498394e+02,  2.20423133e+02,  4.57702379e+02,\n",
       "        2.51050695e+02,  6.57082275e+02, -3.47237765e+02,  2.66804826e+02,\n",
       "       -5.91997272e+02, -4.69211848e+02,  1.80713364e+02, -1.35932075e+02,\n",
       "        4.49127674e+02, -4.61803854e+02, -2.30062729e+02, -3.47146229e+02,\n",
       "        2.90488511e+02, -1.53512930e+02,  1.18226924e+01, -1.09554753e+03,\n",
       "        8.06567792e+02, -2.99565647e+01])"
      ]
     },
     "execution_count": 8,
     "metadata": {},
     "output_type": "execute_result"
    }
   ],
   "source": [
    "y_train"
   ]
  },
  {
   "cell_type": "markdown",
   "metadata": {},
   "source": [
    "# Test"
   ]
  },
  {
   "cell_type": "code",
   "execution_count": 11,
   "metadata": {},
   "outputs": [
    {
     "data": {
      "text/plain": [
       "array([[-1.94086505e+00, -5.97685850e-01,  3.57502606e-01, ...,\n",
       "        -1.54397772e-01,  1.79793150e+00,  4.33442812e-01],\n",
       "       [-1.41220184e-01, -8.16503223e-02,  4.08158947e-01, ...,\n",
       "        -3.50472110e-01, -7.61778071e-01, -8.00352881e-01],\n",
       "       [-9.93638232e-01,  7.37029580e-01,  6.77577719e-01, ...,\n",
       "        -7.52470017e-01,  4.34491158e-01,  1.04931437e-01],\n",
       "       ...,\n",
       "       [-7.60316706e-02,  5.13037697e-01,  1.36425987e+00, ...,\n",
       "        -9.20606697e-01,  5.04504079e-01,  1.00878182e+00],\n",
       "       [ 1.93279766e+00, -1.70242795e+00,  1.12849321e+00, ...,\n",
       "        -6.37587265e-04, -1.91637777e+00,  2.34750208e+00],\n",
       "       [ 2.67467442e-01, -1.30879975e+00,  2.11180437e+00, ...,\n",
       "        -7.11647988e-01, -1.97871377e+00,  5.62886032e-01]])"
      ]
     },
     "execution_count": 11,
     "metadata": {},
     "output_type": "execute_result"
    }
   ],
   "source": [
    "X_test"
   ]
  },
  {
   "cell_type": "code",
   "execution_count": 12,
   "metadata": {},
   "outputs": [
    {
     "data": {
      "text/plain": [
       "array([  -93.56195953,  -507.24594313,    55.70023688,  -465.25701023,\n",
       "         814.46050485,  -157.2776739 ,     3.14239518,   -10.42999267,\n",
       "        -446.34059906,   -22.56085778,   359.65633654,  -889.27742414,\n",
       "        -122.8776251 ,  -171.5323369 ,  -276.65119523,   107.17295419,\n",
       "         225.28245765,   560.45768852,  -138.14700683,   -76.69842423,\n",
       "          78.78480006,  -303.7337501 ,   131.78821416,   -69.20330143,\n",
       "         739.31370229,  1029.77107146,   305.2558632 ,  1045.90480952,\n",
       "         229.22747286,   716.67067429,  -122.45470707,  -292.45342528,\n",
       "         695.68201761, -1068.11437345,  -382.91539098,   981.95053911,\n",
       "        -136.4482831 ,   587.39318545,   645.64599024,  -120.75907051,\n",
       "         610.73432023,  -437.49455888,   246.58975117,   149.70828629,\n",
       "         627.02740634,   400.97917351,  -114.68433187,    97.14105349,\n",
       "         253.31592546,   -69.83713882,   423.22850942,  -478.51189744,\n",
       "         678.55897496,  -710.02622703,  -461.20915005,   541.01392723,\n",
       "         -46.54021053,  -130.54170338,   873.18356891,  -512.52557836,\n",
       "         578.0805334 ,   494.92981236,   536.75629343, -1012.81707434,\n",
       "         459.82002511,  -353.23623151,   -32.5255238 ,   607.18370306,\n",
       "        -500.85318391,  -321.35719457,   280.37548785,  -199.42266244,\n",
       "         149.30542888,  -294.52135406,   465.0302656 ,   403.31340907,\n",
       "         186.17107965,  -711.24890208,   427.47635346,    45.52883365,\n",
       "         342.35204541,  -611.13783189,  -245.82595983,  -775.18600111,\n",
       "        -235.92604561,  -203.42950213,   194.85943236,   623.06155577,\n",
       "        -299.25318159,  -262.30809541,  -718.01902946,   384.1706107 ,\n",
       "        -158.29374375,  -159.28107245,   254.03284881,  -211.93623527,\n",
       "         658.95583633, -1183.9005216 ,  -512.62386739,    63.73769854,\n",
       "          85.67627004,   154.47828413,  -527.97971714,   375.75596799,\n",
       "        -343.59247874,  -262.67991257,  -447.95183298,   156.13182678,\n",
       "         251.37260049,    44.98912404,   243.93154995,   178.26130102,\n",
       "         143.51912854,   291.81712941,  -113.46570909,  -746.4609457 ,\n",
       "       -1041.04756414,   188.71240355,  -105.67462486,   326.19064428,\n",
       "          -4.01347885,  -260.42979446,    -4.86126885,   608.57499393,\n",
       "        -775.21131742,  -329.1489829 ,   344.6971037 ,  -118.69096499,\n",
       "        -932.82012032,   465.48584583,   -38.65518184,  -756.16205656,\n",
       "         363.96431985,   652.86835645,   562.9448559 ,   157.89917009,\n",
       "          74.59010756,    31.4663093 ,   134.75228421,  -496.4056024 ,\n",
       "         613.25896238,   -63.43638384,   609.859896  ,   587.88429716,\n",
       "         -86.80516307,  -489.12244082,  -329.07652304,  -229.70689102,\n",
       "        -171.81523564,  -156.57209173,   141.70174688,  -109.51144321,\n",
       "         238.62754084,   347.09606795,   -55.61740908,    21.24294885,\n",
       "         -57.92555738,   -74.20374436,   690.70124526,   350.87224803,\n",
       "        -495.82766693,   -32.59306151,  -265.66525342,   301.87842368,\n",
       "        -413.19160593,   434.52071999,  -398.36930897,   273.83141702,\n",
       "        -290.48617608,  -451.57867213,  -671.5527017 ,  -667.40608131,\n",
       "         383.64251368,   390.13752652,  -269.60995603,  -317.67616767,\n",
       "         540.06308687,   421.77996963,   101.54740517,  -396.07510293,\n",
       "         297.40088056,   546.05093423,  -772.24862962,   -76.36868785,\n",
       "          58.60809848,   209.50873606,  -202.00384925,  -382.69219068,\n",
       "        -274.82135709,  -189.62592137,  -333.17689835,   634.67595804,\n",
       "        -178.74324658,  -218.49598907,   724.31373389,   173.21242341,\n",
       "         -11.54297993,    20.38104349,    25.90012144,   455.06107341,\n",
       "        -532.85973338,    19.21616621,  -584.55153734,  -166.11935799,\n",
       "        -248.93598945,   700.66548257,   146.24197365,  -248.75149648,\n",
       "          38.80969459,    -8.32427604,   -11.08849826,   -87.82257376,\n",
       "         455.11123805,   144.09338348,   154.76208857,   376.48887741,\n",
       "        -432.98840693,  -226.92046621,    87.95426212,   559.55082161,\n",
       "          59.66315583,   321.92220563,   665.3785365 ,  -309.39480095,\n",
       "         265.58454227,  -344.36124932,  -837.18963092,   178.69516488,\n",
       "         -92.74480771,   493.32628052,   561.1131405 ,   115.07046877,\n",
       "        -390.4035236 ,   -47.29093067,  -206.19115463,   371.76187118,\n",
       "         434.68356862,  -341.41358901,  -436.56201444,  -534.57066019,\n",
       "         -49.29496611,   166.89315802,  -491.21295546,  -481.23257073,\n",
       "         865.25258639,  1125.03516706,   483.20197014,   167.9332763 ,\n",
       "         641.38403524,   383.28673259,   -12.67752825,     2.31368301,\n",
       "         381.74633607,   997.88078216,   512.64209859,  -543.57495248,\n",
       "         461.02263358,  -566.86948309,   246.0339735 ,  -322.62252011,\n",
       "        -306.90350722,  -949.53949446,  -278.65732952,   -38.29700365,\n",
       "         768.69704211,  -461.52668511,  -376.67874202,    22.79498328,\n",
       "          30.63644183,  -385.3292118 ,   130.68828022,  -219.85491292,\n",
       "        -272.69488477,    59.27601944,   461.28882105,   651.1381827 ,\n",
       "         137.93441396,  -430.16766717,  -139.9729588 ,  -259.88315968,\n",
       "        -775.78996203,   755.55383577,   113.28063897,   365.54818938,\n",
       "         406.8860919 ,  -717.4969721 ,  -451.72862782,  -320.50559712,\n",
       "         137.78207659,   180.82428161,   299.10815975,  -498.93298473,\n",
       "       -1126.88825021,   673.36903096,  -479.90179977,    51.90902176,\n",
       "        -218.97596635, -1135.07437885,   300.32487141,  -342.06230603,\n",
       "         172.5934302 ,  -107.88017296,  -218.1147322 ,   -12.00344899,\n",
       "        -126.55282397,  -524.29117925,   942.79474938,   318.30894408,\n",
       "          94.70116531,  -427.57943936,   117.32744981,   299.80242855,\n",
       "        -268.60417172,   499.20515226,   700.64059276,  -996.03104752,\n",
       "         146.10821043,  -440.57682752,  -832.0883188 ,   274.46249782,\n",
       "         286.10180618,  -193.40813072,   -87.95978805,   467.23534894,\n",
       "        -254.6820766 ,  -855.48196586,    37.01632999,   109.8577925 ,\n",
       "         347.44245272,  -124.65373668])"
      ]
     },
     "execution_count": 12,
     "metadata": {},
     "output_type": "execute_result"
    }
   ],
   "source": [
    "y_test"
   ]
  },
  {
   "cell_type": "markdown",
   "metadata": {},
   "source": [
    "## Train Random Forest Regessor\n",
    "see https://scikit-learn.org/stable/modules/generated/sklearn.ensemble.RandomForestRegressor.html#sklearn.ensemble.RandomForestRegressor"
   ]
  },
  {
   "cell_type": "markdown",
   "metadata": {},
   "source": [
    "# Ok"
   ]
  },
  {
   "cell_type": "code",
   "execution_count": 15,
   "metadata": {},
   "outputs": [],
   "source": [
    "from sklearn.ensemble import RandomForestRegressor"
   ]
  },
  {
   "cell_type": "markdown",
   "metadata": {},
   "source": [
    "### E2.2: train RF"
   ]
  },
  {
   "cell_type": "code",
   "execution_count": 16,
   "metadata": {},
   "outputs": [],
   "source": [
    "X, y = make_regression(n_features=4, n_informative=2,\n",
    "                       random_state=0, shuffle=False)\n",
    "\n",
    "regr = RandomForestRegressor(max_depth=2, random_state=0, n_estimators=100)\n"
   ]
  },
  {
   "cell_type": "code",
   "execution_count": 18,
   "metadata": {},
   "outputs": [
    {
     "data": {
      "text/plain": [
       "RandomForestRegressor(bootstrap=True, criterion='mse', max_depth=2,\n",
       "           max_features='auto', max_leaf_nodes=None,\n",
       "           min_impurity_decrease=0.0, min_impurity_split=None,\n",
       "           min_samples_leaf=1, min_samples_split=2,\n",
       "           min_weight_fraction_leaf=0.0, n_estimators=100, n_jobs=1,\n",
       "           oob_score=False, random_state=0, verbose=0, warm_start=False)"
      ]
     },
     "execution_count": 18,
     "metadata": {},
     "output_type": "execute_result"
    }
   ],
   "source": [
    "regr.fit(X,y)"
   ]
  },
  {
   "cell_type": "markdown",
   "metadata": {},
   "source": [
    "### E2.3: try different parameters for\n",
    "* max_depth\n",
    "* min_samples_split\n",
    "* min_samples_leaf"
   ]
  },
  {
   "cell_type": "code",
   "execution_count": 20,
   "metadata": {},
   "outputs": [
    {
     "name": "stdout",
     "output_type": "stream",
     "text": [
      "[0.18146984 0.81473937 0.00145312 0.00233767]\n",
      "[-8.32987858]\n"
     ]
    }
   ],
   "source": [
    "print(\"Feature importances, N={}\" ,regr.feature_importances_)\n",
    "print(\"Prediction: \", regr.predict([[0, 0, 0, 0]]))"
   ]
  },
  {
   "cell_type": "markdown",
   "metadata": {},
   "source": [
    "# NOT related"
   ]
  },
  {
   "cell_type": "code",
   "execution_count": 50,
   "metadata": {},
   "outputs": [
    {
     "data": {
      "image/png": "[encoded data removed]",
      "text/plain": [
       "<Figure size 432x288 with 1 Axes>"
      ]
     },
     "metadata": {},
     "output_type": "display_data"
    }
   ],
   "source": [
    "#Importing Libraries\n",
    "\n",
    "import numpy as np\n",
    "import matplotlib.pyplot as plt\n",
    "import pandas as pd\n",
    "\n",
    "# Importing the dataset\n",
    "dataset = pd.read_csv('../DATA/company_sales_data.csv')\n",
    "X = dataset.iloc[:, 1:2].values\n",
    "y = dataset.iloc[:, 2].values\n",
    "\n",
    "X2 = dataset.iloc[:, 1:2].values\n",
    "y2 = dataset.iloc[:, 2].values\n",
    "\n",
    "# Splitting the dataset into the Training set and Test set\n",
    "from sklearn.cross_validation import train_test_split\n",
    "X_train, X_test, y_train, y_test = train_test_split(X, y, test_size = 0.2)\n",
    "X_train2, X_test2, y_train2, y_test2 = train_test_split(X, y, test_size = 0.2)\n",
    "\n",
    "# Training Random Forest Regression Model\n",
    "from sklearn.ensemble import RandomForestRegressor\n",
    "regressor = RandomForestRegressor(n_estimators = 10, random_state = 0)\n",
    "regressor.fit(X, y)\n",
    "\n",
    "regressor2 = RandomForestRegressor(n_estimators = 1000, random_state = 0)\n",
    "regressor2.fit(X2, y2)\n",
    "\n",
    "# Predict Result from Random Forest Regression Model\n",
    "y_pred = regressor.predict(6.5)\n",
    "y_pred2 = regressor2.predict(1500)\n",
    "\n",
    "# Visualising the Random Forest Regression results (higher resolution)\n",
    "X_grid = np.arange(min(X), max(X), 0.01)\n",
    "X_grid = X_grid.reshape((len(X_grid), 1))\n",
    "\n",
    "X_grid2 = np.arange(min(X2), max(X2), 0.3)\n",
    "X_grid2 = X_grid2.reshape((len(X_grid2), 1))\n",
    "\n",
    "plt.scatter(X, y, color = 'red')\n",
    "plt.plot(X_grid, regressor.predict(X_grid), color = 'blue')\n",
    "\n",
    "plt.scatter(X2, y2, color = 'green')\n",
    "plt.plot(X_grid2, regressor.predict(X_grid2), color = 'blue')\n",
    "\n",
    "plt.title('Random Forest Regression Model')\n",
    "plt.xlabel('Years')\n",
    "plt.ylabel('Account Balance')\n",
    "plt.show()"
   ]
  },
  {
   "cell_type": "code",
   "execution_count": 93,
   "metadata": {},
   "outputs": [
    {
     "data": {
      "image/png": "[encoded data removed]",
      "text/plain": [
       "<Figure size 1440x576 with 1 Axes>"
      ]
     },
     "metadata": {},
     "output_type": "display_data"
    }
   ],
   "source": [
    "figprice = plt.figure(figsize=(20,8))\n",
    "\n",
    "plt.scatter(X,y, color='g')\n",
    "plt.scatter(X_grid2, regressor.predict(X_grid2), color = 'r', marker='D', alpha=0.5)\n",
    "plt.plot(X_grid2, regressor.predict(X_grid2), color = 'b', linewidth=2, alpha=0.5)\n",
    "\n",
    "figprice.savefig('image_company_sales_data.png', dpi=200)"
   ]
  },
  {
   "cell_type": "code",
   "execution_count": 81,
   "metadata": {},
   "outputs": [
    {
     "data": {
      "text/plain": [
       "array([[1990. ],\n",
       "       [1990.3],\n",
       "       [1990.6],\n",
       "       ...,\n",
       "       [3699.1],\n",
       "       [3699.4],\n",
       "       [3699.7]])"
      ]
     },
     "execution_count": 81,
     "metadata": {},
     "output_type": "execute_result"
    }
   ],
   "source": [
    "X_grid2"
   ]
  },
  {
   "cell_type": "code",
   "execution_count": 82,
   "metadata": {},
   "outputs": [
    {
     "data": {
      "text/plain": [
       "array([1872., 1872., 1872., ..., 1468., 1468., 1468.])"
      ]
     },
     "execution_count": 82,
     "metadata": {},
     "output_type": "execute_result"
    }
   ],
   "source": [
    "regressor.predict(X_grid2)"
   ]
  },
  {
   "cell_type": "code",
   "execution_count": null,
   "metadata": {
    "collapsed": true
   },
   "outputs": [],
   "source": []
  }
 ],
 "metadata": {
  "kernelspec": {
   "display_name": "Python 3",
   "language": "python",
   "name": "python3"
  },
  "language_info": {
   "codemirror_mode": {
    "name": "ipython",
    "version": 3
   },
   "file_extension": ".py",
   "mimetype": "text/x-python",
   "name": "python",
   "nbconvert_exporter": "python",
   "pygments_lexer": "ipython3",
   "version": "3.6.6"
  }
 },
 "nbformat": 4,
 "nbformat_minor": 2
}
